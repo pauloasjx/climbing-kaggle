{
 "cells": [
  {
   "cell_type": "code",
   "execution_count": 21,
   "metadata": {},
   "outputs": [],
   "source": [
    "import numpy as np\n",
    "\n",
    "from sklearn.decomposition import PCA\n",
    "from sklearn.svm import SVC"
   ]
  },
  {
   "cell_type": "code",
   "execution_count": 22,
   "metadata": {},
   "outputs": [
    {
     "name": "stdout",
     "output_type": "stream",
     "text": [
      "Carregando arquivo de treino...\n",
      "Arquivo de treino carregado!\n"
     ]
    }
   ],
   "source": [
    "print('Carregando arquivo de treino...')\n",
    "\n",
    "with open('train.csv', 'r') as treino_arquivo:\n",
    "    treino_arquivo.readline()\n",
    "    \n",
    "    treino_dados = []\n",
    "    treino_labels = []\n",
    "    \n",
    "    for linha in treino_arquivo.readlines():\n",
    "        dado = list(map(int, linha.rstrip().split(',')))\n",
    "        treino_labels.append(dado[0])\n",
    "        treino_dados.append(dado[1:])\n",
    "        \n",
    "        \n",
    "    treino_dados = np.array(treino_dados)\n",
    "    treino_labels = np.array(treino_labels)\n",
    "\n",
    "print('Arquivo de treino carregado!')"
   ]
  },
  {
   "cell_type": "code",
   "execution_count": 23,
   "metadata": {},
   "outputs": [
    {
     "name": "stdout",
     "output_type": "stream",
     "text": [
      "PCA...\n",
      "Fim PCA!\n"
     ]
    }
   ],
   "source": [
    "print('PCA...')\n",
    "\n",
    "pca = PCA(n_components=50, whiten=True)\n",
    "pca.fit(treino_dados)\n",
    "treino_dados = pca.transform(treino_dados)\n",
    "\n",
    "print('Fim PCA!')"
   ]
  },
  {
   "cell_type": "code",
   "execution_count": 24,
   "metadata": {},
   "outputs": [
    {
     "name": "stdout",
     "output_type": "stream",
     "text": [
      "Treinando Support Vector Machine (SVM)...\n",
      "Fim SVC!\n"
     ]
    }
   ],
   "source": [
    "print('Treinando Support Vector Machine (SVM)...')\n",
    "\n",
    "svc = SVC()\n",
    "svc.fit(treino_dados, treino_labels)\n",
    "\n",
    "print('Fim SVC!')"
   ]
  },
  {
   "cell_type": "code",
   "execution_count": 25,
   "metadata": {},
   "outputs": [
    {
     "name": "stdout",
     "output_type": "stream",
     "text": [
      "Carregando arquivo de testes...\n",
      "Arquivo de treino carregado!\n"
     ]
    }
   ],
   "source": [
    "print('Carregando arquivo de testes...')\n",
    "\n",
    "with open('test.csv', 'r') as teste_arquivo:\n",
    "    teste_arquivo.readline()\n",
    "    \n",
    "    teste_dados = []\n",
    "    \n",
    "    for linha in teste_arquivo.readlines():\n",
    "        dado = list(map(int, linha.rstrip().split(',')))\n",
    "        teste_dados.append(dado)\n",
    "        \n",
    "    teste_dados = np.array(teste_dados)\n",
    "\n",
    "print('Arquivo de treino carregado!')"
   ]
  },
  {
   "cell_type": "code",
   "execution_count": 26,
   "metadata": {},
   "outputs": [
    {
     "name": "stdout",
     "output_type": "stream",
     "text": [
      "Predizendo ...\n",
      "Fim da predição!\n"
     ]
    }
   ],
   "source": [
    "print('Predizendo ...')\n",
    "\n",
    "teste_dados = pca.transform(teste_dados)\n",
    "\n",
    "teste_labels = svc.predict(teste_dados)\n",
    "\n",
    "print('Fim da predição!')"
   ]
  },
  {
   "cell_type": "code",
   "execution_count": 27,
   "metadata": {},
   "outputs": [
    {
     "name": "stdout",
     "output_type": "stream",
     "text": [
      "Salvando ...\n",
      "Arquivo salvo!\n"
     ]
    }
   ],
   "source": [
    "print('Salvando ...')\n",
    "\n",
    "with open('submissao.csv', 'w') as submissao_arquivo:\n",
    "    submissao_arquivo.write('\"ImageId\",\"Label\"\\n')\n",
    "    \n",
    "    aux = 0\n",
    "    \n",
    "    for teste_label in teste_labels:\n",
    "        aux = aux + 1\n",
    "        submissao_arquivo.write(str(aux) + ',\"' + str(teste_label) + '\"\\n')\n",
    "        \n",
    "print('Arquivo salvo!')"
   ]
  }
 ],
 "metadata": {
  "kernelspec": {
   "display_name": "Python 3",
   "language": "python",
   "name": "python3"
  },
  "language_info": {
   "codemirror_mode": {
    "name": "ipython",
    "version": 3
   },
   "file_extension": ".py",
   "mimetype": "text/x-python",
   "name": "python",
   "nbconvert_exporter": "python",
   "pygments_lexer": "ipython3",
   "version": "3.6.1"
  }
 },
 "nbformat": 4,
 "nbformat_minor": 2
}
