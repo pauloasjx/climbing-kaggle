{
 "cells": [
  {
   "cell_type": "code",
   "execution_count": 1,
   "metadata": {},
   "outputs": [],
   "source": [
    "import torch\n",
    "from fastai.conv_learner import *\n",
    "from fastai.transforms import *"
   ]
  },
  {
   "cell_type": "code",
   "execution_count": 2,
   "metadata": {},
   "outputs": [
    {
     "name": "stdout",
     "output_type": "stream",
     "text": [
      "models\tsample_submission.csv  test.csv  tmp  train.csv\r\n"
     ]
    }
   ],
   "source": [
    "!ls data/"
   ]
  },
  {
   "cell_type": "code",
   "execution_count": 3,
   "metadata": {},
   "outputs": [],
   "source": [
    "PATH = 'data'"
   ]
  },
  {
   "cell_type": "code",
   "execution_count": 4,
   "metadata": {},
   "outputs": [],
   "source": [
    "import pandas as pd"
   ]
  },
  {
   "cell_type": "code",
   "execution_count": 5,
   "metadata": {},
   "outputs": [],
   "source": [
    "train = pd.read_csv('data/train.csv')"
   ]
  },
  {
   "cell_type": "code",
   "execution_count": 6,
   "metadata": {},
   "outputs": [
    {
     "data": {
      "text/html": [
       "<div>\n",
       "<style scoped>\n",
       "    .dataframe tbody tr th:only-of-type {\n",
       "        vertical-align: middle;\n",
       "    }\n",
       "\n",
       "    .dataframe tbody tr th {\n",
       "        vertical-align: top;\n",
       "    }\n",
       "\n",
       "    .dataframe thead th {\n",
       "        text-align: right;\n",
       "    }\n",
       "</style>\n",
       "<table border=\"1\" class=\"dataframe\">\n",
       "  <thead>\n",
       "    <tr style=\"text-align: right;\">\n",
       "      <th></th>\n",
       "      <th>label</th>\n",
       "      <th>pixel0</th>\n",
       "      <th>pixel1</th>\n",
       "      <th>pixel2</th>\n",
       "      <th>pixel3</th>\n",
       "      <th>pixel4</th>\n",
       "      <th>pixel5</th>\n",
       "      <th>pixel6</th>\n",
       "      <th>pixel7</th>\n",
       "      <th>pixel8</th>\n",
       "      <th>...</th>\n",
       "      <th>pixel774</th>\n",
       "      <th>pixel775</th>\n",
       "      <th>pixel776</th>\n",
       "      <th>pixel777</th>\n",
       "      <th>pixel778</th>\n",
       "      <th>pixel779</th>\n",
       "      <th>pixel780</th>\n",
       "      <th>pixel781</th>\n",
       "      <th>pixel782</th>\n",
       "      <th>pixel783</th>\n",
       "    </tr>\n",
       "  </thead>\n",
       "  <tbody>\n",
       "    <tr>\n",
       "      <th>0</th>\n",
       "      <td>1</td>\n",
       "      <td>0</td>\n",
       "      <td>0</td>\n",
       "      <td>0</td>\n",
       "      <td>0</td>\n",
       "      <td>0</td>\n",
       "      <td>0</td>\n",
       "      <td>0</td>\n",
       "      <td>0</td>\n",
       "      <td>0</td>\n",
       "      <td>...</td>\n",
       "      <td>0</td>\n",
       "      <td>0</td>\n",
       "      <td>0</td>\n",
       "      <td>0</td>\n",
       "      <td>0</td>\n",
       "      <td>0</td>\n",
       "      <td>0</td>\n",
       "      <td>0</td>\n",
       "      <td>0</td>\n",
       "      <td>0</td>\n",
       "    </tr>\n",
       "    <tr>\n",
       "      <th>1</th>\n",
       "      <td>0</td>\n",
       "      <td>0</td>\n",
       "      <td>0</td>\n",
       "      <td>0</td>\n",
       "      <td>0</td>\n",
       "      <td>0</td>\n",
       "      <td>0</td>\n",
       "      <td>0</td>\n",
       "      <td>0</td>\n",
       "      <td>0</td>\n",
       "      <td>...</td>\n",
       "      <td>0</td>\n",
       "      <td>0</td>\n",
       "      <td>0</td>\n",
       "      <td>0</td>\n",
       "      <td>0</td>\n",
       "      <td>0</td>\n",
       "      <td>0</td>\n",
       "      <td>0</td>\n",
       "      <td>0</td>\n",
       "      <td>0</td>\n",
       "    </tr>\n",
       "    <tr>\n",
       "      <th>2</th>\n",
       "      <td>1</td>\n",
       "      <td>0</td>\n",
       "      <td>0</td>\n",
       "      <td>0</td>\n",
       "      <td>0</td>\n",
       "      <td>0</td>\n",
       "      <td>0</td>\n",
       "      <td>0</td>\n",
       "      <td>0</td>\n",
       "      <td>0</td>\n",
       "      <td>...</td>\n",
       "      <td>0</td>\n",
       "      <td>0</td>\n",
       "      <td>0</td>\n",
       "      <td>0</td>\n",
       "      <td>0</td>\n",
       "      <td>0</td>\n",
       "      <td>0</td>\n",
       "      <td>0</td>\n",
       "      <td>0</td>\n",
       "      <td>0</td>\n",
       "    </tr>\n",
       "    <tr>\n",
       "      <th>3</th>\n",
       "      <td>4</td>\n",
       "      <td>0</td>\n",
       "      <td>0</td>\n",
       "      <td>0</td>\n",
       "      <td>0</td>\n",
       "      <td>0</td>\n",
       "      <td>0</td>\n",
       "      <td>0</td>\n",
       "      <td>0</td>\n",
       "      <td>0</td>\n",
       "      <td>...</td>\n",
       "      <td>0</td>\n",
       "      <td>0</td>\n",
       "      <td>0</td>\n",
       "      <td>0</td>\n",
       "      <td>0</td>\n",
       "      <td>0</td>\n",
       "      <td>0</td>\n",
       "      <td>0</td>\n",
       "      <td>0</td>\n",
       "      <td>0</td>\n",
       "    </tr>\n",
       "    <tr>\n",
       "      <th>4</th>\n",
       "      <td>0</td>\n",
       "      <td>0</td>\n",
       "      <td>0</td>\n",
       "      <td>0</td>\n",
       "      <td>0</td>\n",
       "      <td>0</td>\n",
       "      <td>0</td>\n",
       "      <td>0</td>\n",
       "      <td>0</td>\n",
       "      <td>0</td>\n",
       "      <td>...</td>\n",
       "      <td>0</td>\n",
       "      <td>0</td>\n",
       "      <td>0</td>\n",
       "      <td>0</td>\n",
       "      <td>0</td>\n",
       "      <td>0</td>\n",
       "      <td>0</td>\n",
       "      <td>0</td>\n",
       "      <td>0</td>\n",
       "      <td>0</td>\n",
       "    </tr>\n",
       "  </tbody>\n",
       "</table>\n",
       "<p>5 rows × 785 columns</p>\n",
       "</div>"
      ],
      "text/plain": [
       "   label  pixel0  pixel1  pixel2  pixel3  pixel4  pixel5  pixel6  pixel7  \\\n",
       "0      1       0       0       0       0       0       0       0       0   \n",
       "1      0       0       0       0       0       0       0       0       0   \n",
       "2      1       0       0       0       0       0       0       0       0   \n",
       "3      4       0       0       0       0       0       0       0       0   \n",
       "4      0       0       0       0       0       0       0       0       0   \n",
       "\n",
       "   pixel8    ...     pixel774  pixel775  pixel776  pixel777  pixel778  \\\n",
       "0       0    ...            0         0         0         0         0   \n",
       "1       0    ...            0         0         0         0         0   \n",
       "2       0    ...            0         0         0         0         0   \n",
       "3       0    ...            0         0         0         0         0   \n",
       "4       0    ...            0         0         0         0         0   \n",
       "\n",
       "   pixel779  pixel780  pixel781  pixel782  pixel783  \n",
       "0         0         0         0         0         0  \n",
       "1         0         0         0         0         0  \n",
       "2         0         0         0         0         0  \n",
       "3         0         0         0         0         0  \n",
       "4         0         0         0         0         0  \n",
       "\n",
       "[5 rows x 785 columns]"
      ]
     },
     "execution_count": 6,
     "metadata": {},
     "output_type": "execute_result"
    }
   ],
   "source": [
    "train.head()"
   ]
  },
  {
   "cell_type": "code",
   "execution_count": 7,
   "metadata": {},
   "outputs": [],
   "source": [
    "X = train.drop('label', axis=1).values.reshape(-1, 28, 28)\n",
    "y = train['label'].values"
   ]
  },
  {
   "cell_type": "code",
   "execution_count": 8,
   "metadata": {},
   "outputs": [
    {
     "data": {
      "text/plain": [
       "array([[1],\n",
       "       [0],\n",
       "       [1],\n",
       "       ...,\n",
       "       [7],\n",
       "       [6],\n",
       "       [9]])"
      ]
     },
     "execution_count": 8,
     "metadata": {},
     "output_type": "execute_result"
    }
   ],
   "source": [
    "X = np.repeat(X[:, :, :, np.newaxis], 3, axis=3).reshape(-1, 3, 28, 28).astype(float)\n",
    "y.reshape(-1, 1)"
   ]
  },
  {
   "cell_type": "code",
   "execution_count": 9,
   "metadata": {},
   "outputs": [],
   "source": [
    "X_test = pd.read_csv('data/test.csv').values.reshape(-1, 28, 28)"
   ]
  },
  {
   "cell_type": "code",
   "execution_count": 10,
   "metadata": {},
   "outputs": [],
   "source": [
    "X_test = np.repeat(X_test[:, :, :, np.newaxis], 3, axis=3)"
   ]
  },
  {
   "cell_type": "code",
   "execution_count": 11,
   "metadata": {},
   "outputs": [
    {
     "data": {
      "text/plain": [
       "(28000, 28, 28, 3)"
      ]
     },
     "execution_count": 11,
     "metadata": {},
     "output_type": "execute_result"
    }
   ],
   "source": [
    "X_test.shape"
   ]
  },
  {
   "cell_type": "code",
   "execution_count": 12,
   "metadata": {},
   "outputs": [
    {
     "data": {
      "text/plain": [
       "(42000, 3, 28, 28)"
      ]
     },
     "execution_count": 12,
     "metadata": {},
     "output_type": "execute_result"
    }
   ],
   "source": [
    "X.shape"
   ]
  },
  {
   "cell_type": "code",
   "execution_count": 13,
   "metadata": {},
   "outputs": [
    {
     "data": {
      "text/plain": [
       "(42000,)"
      ]
     },
     "execution_count": 13,
     "metadata": {},
     "output_type": "execute_result"
    }
   ],
   "source": [
    "y.shape"
   ]
  },
  {
   "cell_type": "code",
   "execution_count": 14,
   "metadata": {},
   "outputs": [],
   "source": [
    "from sklearn.model_selection import train_test_split"
   ]
  },
  {
   "cell_type": "code",
   "execution_count": 15,
   "metadata": {},
   "outputs": [],
   "source": [
    "X_train, X_val, y_train, y_val = train_test_split(X, y, test_size=0.2)"
   ]
  },
  {
   "cell_type": "code",
   "execution_count": 16,
   "metadata": {},
   "outputs": [],
   "source": [
    "arch=resnet18"
   ]
  },
  {
   "cell_type": "code",
   "execution_count": 17,
   "metadata": {},
   "outputs": [],
   "source": [
    "sz=28"
   ]
  },
  {
   "cell_type": "code",
   "execution_count": 18,
   "metadata": {},
   "outputs": [],
   "source": [
    "tfms = tfms_from_model(arch, sz, aug_tfms=[transforms_side_on], max_zoom=1.1)"
   ]
  },
  {
   "cell_type": "code",
   "execution_count": 19,
   "metadata": {},
   "outputs": [],
   "source": [
    "data = ImageClassifierData.from_arrays(PATH, (X_train, y_train), (X_val, y_val), test=X_test, bs=64, classes=10)"
   ]
  },
  {
   "cell_type": "code",
   "execution_count": 20,
   "metadata": {},
   "outputs": [],
   "source": [
    "learn = ConvLearner.pretrained(arch, data, ps=0.5)"
   ]
  },
  {
   "cell_type": "code",
   "execution_count": 21,
   "metadata": {},
   "outputs": [
    {
     "data": {
      "application/vnd.jupyter.widget-view+json": {
       "model_id": "20336bdf6d0e4b61a67bf4ae5346d0ef",
       "version_major": 2,
       "version_minor": 0
      },
      "text/plain": [
       "HBox(children=(IntProgress(value=0, description='Epoch', max=1), HTML(value='')))"
      ]
     },
     "metadata": {},
     "output_type": "display_data"
    },
    {
     "name": "stdout",
     "output_type": "stream",
     "text": [
      " 84%|████████▍ | 441/525 [00:07<00:01, 56.48it/s, loss=6.27]\n",
      "                                                            \r"
     ]
    }
   ],
   "source": [
    "learn.lr_find()"
   ]
  },
  {
   "cell_type": "code",
   "execution_count": 22,
   "metadata": {},
   "outputs": [
    {
     "data": {
      "image/png": "[encoded data removed]",
      "text/plain": [
       "<Figure size 432x288 with 1 Axes>"
      ]
     },
     "metadata": {},
     "output_type": "display_data"
    }
   ],
   "source": [
    "learn.sched.plot()"
   ]
  },
  {
   "cell_type": "code",
   "execution_count": 23,
   "metadata": {},
   "outputs": [],
   "source": [
    "lr=8e-3"
   ]
  },
  {
   "cell_type": "code",
   "execution_count": 24,
   "metadata": {},
   "outputs": [
    {
     "data": {
      "application/vnd.jupyter.widget-view+json": {
       "model_id": "43e2e06c09334aa08bcd84d6da512b4d",
       "version_major": 2,
       "version_minor": 0
      },
      "text/plain": [
       "HBox(children=(IntProgress(value=0, description='Epoch', max=5), HTML(value='')))"
      ]
     },
     "metadata": {},
     "output_type": "display_data"
    },
    {
     "name": "stdout",
     "output_type": "stream",
     "text": [
      "epoch      trn_loss   val_loss   accuracy                   \n",
      "    0      1.144545   0.886248   0.728214  \n",
      "    1      1.069668   0.858315   0.746905                   \n",
      "    2      0.987762   0.755029   0.762857                    \n",
      "    3      0.978214   0.730481   0.772143                    \n",
      "    4      0.93076    0.711715   0.7775                      \n",
      "\n"
     ]
    },
    {
     "data": {
      "text/plain": [
       "[array([0.71172]), 0.7775]"
      ]
     },
     "execution_count": 24,
     "metadata": {},
     "output_type": "execute_result"
    }
   ],
   "source": [
    "learn.fit(lr, 5, cycle_len=1)"
   ]
  },
  {
   "cell_type": "code",
   "execution_count": 25,
   "metadata": {},
   "outputs": [],
   "source": [
    "lr=1e-3"
   ]
  },
  {
   "cell_type": "code",
   "execution_count": 26,
   "metadata": {},
   "outputs": [
    {
     "data": {
      "application/vnd.jupyter.widget-view+json": {
       "model_id": "e5215786e71845f7bed93a3a8ef44c5a",
       "version_major": 2,
       "version_minor": 0
      },
      "text/plain": [
       "HBox(children=(IntProgress(value=0, description='Epoch', max=20), HTML(value='')))"
      ]
     },
     "metadata": {},
     "output_type": "display_data"
    },
    {
     "name": "stdout",
     "output_type": "stream",
     "text": [
      "epoch      trn_loss   val_loss   accuracy                    \n",
      "    0      0.929352   0.707271   0.780714  \n",
      "    1      0.936384   0.707991   0.78                        \n",
      "    2      0.927566   0.69878    0.7825                      \n",
      "    3      0.915685   0.695784   0.783452                    \n",
      "    4      0.90587    0.692584   0.783095                    \n",
      "    5      0.913749   0.689702   0.783452                    \n",
      "    6      0.896804   0.686492   0.785952                    \n",
      "    7      0.877038   0.691029   0.786667                    \n",
      "    8      0.897176   0.682584   0.78369                     \n",
      "    9      0.883177   0.681691   0.785119                    \n",
      "    10     0.892287   0.684186   0.786905                    \n",
      "    11     0.899931   0.673778   0.788095                    \n",
      "    12     0.863738   0.676253   0.789167                    \n",
      "    13     0.888259   0.679492   0.792738                    \n",
      "    14     0.899259   0.661918   0.790119                    \n",
      "    15     0.86163    0.676658   0.790119                    \n",
      "    16     0.87517    0.685914   0.7925                      \n",
      "    17     0.863961   0.674656   0.790714                    \n",
      "    18     0.847199   0.658993   0.794405                    \n",
      "    19     0.86592    0.660606   0.794405                    \n",
      "\n"
     ]
    },
    {
     "data": {
      "text/plain": [
       "[array([0.66061]), 0.794404761904762]"
      ]
     },
     "execution_count": 26,
     "metadata": {},
     "output_type": "execute_result"
    }
   ],
   "source": [
    "learn.fit(lr, 10, wds=3e-5, cycle_len=2)"
   ]
  },
  {
   "cell_type": "code",
   "execution_count": 27,
   "metadata": {},
   "outputs": [],
   "source": [
    "X = np.stack((X,)*3, -1).reshape(-1, 3, 28, 28)"
   ]
  },
  {
   "cell_type": "code",
   "execution_count": 28,
   "metadata": {},
   "outputs": [],
   "source": [
    "lr=3e-4"
   ]
  },
  {
   "cell_type": "code",
   "execution_count": 29,
   "metadata": {},
   "outputs": [
    {
     "data": {
      "application/vnd.jupyter.widget-view+json": {
       "model_id": "b26dbeb115254d5ab2f80e2974d2ef3d",
       "version_major": 2,
       "version_minor": 0
      },
      "text/plain": [
       "HBox(children=(IntProgress(value=0, description='Epoch', max=10), HTML(value='')))"
      ]
     },
     "metadata": {},
     "output_type": "display_data"
    },
    {
     "name": "stdout",
     "output_type": "stream",
     "text": [
      "epoch      trn_loss   val_loss   accuracy                    \n",
      "    0      0.88193    0.6608     0.794881  \n",
      "    1      0.869      0.666661   0.794881                    \n",
      "    2      0.873487   0.658546   0.79381                     \n",
      "    3      0.864032   0.651827   0.794762                    \n",
      "    4      0.883547   0.664566   0.79369                     \n",
      "    5      0.88791    0.65489    0.792381                    \n",
      "    6      0.854277   0.662626   0.795833                    \n",
      "    7      0.842529   0.659383   0.794405                    \n",
      "    8      0.902244   0.65163    0.794881                    \n",
      "    9      0.865176   0.650327   0.794286                    \n",
      "\n"
     ]
    },
    {
     "data": {
      "text/plain": [
       "[array([0.65033]), 0.7942857142857143]"
      ]
     },
     "execution_count": 29,
     "metadata": {},
     "output_type": "execute_result"
    }
   ],
   "source": [
    "learn.fit(lr, 5, wds=1e-5, cycle_len=2)"
   ]
  },
  {
   "cell_type": "code",
   "execution_count": 30,
   "metadata": {},
   "outputs": [],
   "source": [
    "lr=3e-4"
   ]
  },
  {
   "cell_type": "code",
   "execution_count": 31,
   "metadata": {},
   "outputs": [
    {
     "data": {
      "application/vnd.jupyter.widget-view+json": {
       "model_id": "b7a7f1d709f642b7a5faa3021c4b5873",
       "version_major": 2,
       "version_minor": 0
      },
      "text/plain": [
       "HBox(children=(IntProgress(value=0, description='Epoch', max=70), HTML(value='')))"
      ]
     },
     "metadata": {},
     "output_type": "display_data"
    },
    {
     "name": "stdout",
     "output_type": "stream",
     "text": [
      "epoch      trn_loss   val_loss   accuracy                    \n",
      "    0      0.859911   0.651475   0.794048  \n",
      "    1      0.862323   0.670879   0.793095                    \n",
      "    2      0.858818   0.66247    0.795595                    \n",
      "    3      0.864135   0.682425   0.795357                    \n",
      "    4      0.855249   0.650488   0.795357                    \n",
      "    5      0.835241   0.659512   0.79881                     \n",
      "    6      0.860345   0.637273   0.801786                    \n",
      "    7      0.860301   0.652833   0.79381                     \n",
      "    8      0.864453   0.660227   0.797381                    \n",
      "    9      0.852824   0.644437   0.797857                    \n",
      "    10     0.867093   0.639846   0.79631                     \n",
      "    11     0.852824   0.670204   0.795833                    \n",
      "    12     0.847798   0.64204    0.798214                    \n",
      "    13     0.873818   0.643813   0.797619                    \n",
      "    14     0.884935   0.653383   0.796667                    \n",
      "    15     0.864992   0.645579   0.796667                    \n",
      "    16     0.859859   0.649114   0.797381                    \n",
      "    17     0.86803    0.638398   0.800476                    \n",
      "    18     0.856242   0.651541   0.795476                    \n",
      "    19     0.865625   0.642773   0.796905                    \n",
      "    20     0.834264   0.647844   0.79881                     \n",
      "    21     0.841384   0.64984    0.797143                    \n",
      "    22     0.814628   0.632763   0.800476                    \n",
      "    23     0.826374   0.636795   0.798333                    \n",
      "    24     0.849288   0.640403   0.79881                     \n",
      "    25     0.834895   0.637617   0.7975                      \n",
      "    26     0.848808   0.642881   0.797262                    \n",
      "    27     0.843336   0.63601    0.800714                    \n",
      "    28     0.853547   0.642677   0.796071                    \n",
      "    29     0.84785    0.631864   0.799643                    \n",
      "    30     0.854159   0.636098   0.798452                    \n",
      "    31     0.860313   0.637092   0.799881                    \n",
      "    32     0.844883   0.636891   0.801429                    \n",
      "    33     0.83927    0.635068   0.80119                     \n",
      "    34     0.86438    0.643795   0.799048                    \n",
      "    35     0.863069   0.631489   0.8025                      \n",
      "    36     0.823527   0.630542   0.800357                    \n",
      "    37     0.869252   0.634801   0.80119                     \n",
      "    38     0.820122   0.637093   0.800357                    \n",
      "    39     0.834295   0.641935   0.802619                    \n",
      "    40     0.85022    0.640542   0.800595                    \n",
      "    41     0.849773   0.635003   0.800595                    \n",
      "    42     0.842445   0.65426    0.802857                    \n",
      "    43     0.843629   0.632114   0.800119                    \n",
      "    44     0.842231   0.632045   0.802024                    \n",
      "    45     0.831937   0.632037   0.802143                    \n",
      "    46     0.838589   0.632013   0.801786                    \n",
      "    47     0.837354   0.631456   0.80381                     \n",
      "    48     0.822579   0.630053   0.80369                     \n",
      "    49     0.849258   0.632189   0.802024                    \n",
      "    50     0.810887   0.628054   0.800952                    \n",
      "    51     0.846019   0.63031    0.802976                    \n",
      "    52     0.834437   0.641597   0.8025                      \n",
      "    53     0.842791   0.62246    0.803095                    \n",
      "    54     0.854631   0.639334   0.803095                    \n",
      "    55     0.822639   0.626892   0.802143                    \n",
      "    56     0.852379   0.634251   0.803452                    \n",
      "    57     0.850791   0.623212   0.805357                    \n",
      "    58     0.842449   0.630834   0.805238                    \n",
      "    59     0.834335   0.631245   0.803214                    \n",
      "    60     0.833159   0.619138   0.802738                    \n",
      "    61     0.82948    0.619819   0.805238                    \n",
      "    62     0.811703   0.614833   0.805357                    \n",
      "    63     0.820951   0.620669   0.805119                    \n",
      "    64     0.846789   0.628497   0.804762                    \n",
      "    65     0.835761   0.634247   0.80631                     \n",
      "    66     0.821431   0.622993   0.805                       \n",
      "    67     0.847083   0.621272   0.804643                    \n",
      "    68     0.846256   0.637482   0.801429                    \n",
      "    69     0.824645   0.61664    0.80619                     \n",
      "\n"
     ]
    },
    {
     "data": {
      "text/plain": [
       "[array([0.61664]), 0.8061904761904762]"
      ]
     },
     "execution_count": 31,
     "metadata": {},
     "output_type": "execute_result"
    }
   ],
   "source": [
    "learn.fit(lr, 5, wds=1e-7, cycle_len=14)"
   ]
  }
 ],
 "metadata": {
  "kernelspec": {
   "display_name": "Python 3",
   "language": "python",
   "name": "python3"
  },
  "language_info": {
   "codemirror_mode": {
    "name": "ipython",
    "version": 3
   },
   "file_extension": ".py",
   "mimetype": "text/x-python",
   "name": "python",
   "nbconvert_exporter": "python",
   "pygments_lexer": "ipython3",
   "version": "3.6.5"
  }
 },
 "nbformat": 4,
 "nbformat_minor": 2
}
